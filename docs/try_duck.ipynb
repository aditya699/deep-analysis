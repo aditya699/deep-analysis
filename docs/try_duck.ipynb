{
 "cells": [
  {
   "cell_type": "code",
   "execution_count": null,
   "metadata": {},
   "outputs": [],
   "source": [
    "!pip install duckdb\n"
   ]
  },
  {
   "cell_type": "code",
   "execution_count": 2,
   "metadata": {},
   "outputs": [
    {
     "name": "stdout",
     "output_type": "stream",
     "text": [
      "   answer\n",
      "0       2\n"
     ]
    }
   ],
   "source": [
    "import duckdb\n",
    "\n",
    "# Run a simple SQL query (no file needed yet)\n",
    "result = duckdb.query(\"SELECT 1 + 1 AS answer\").df()\n",
    "print(result)\n"
   ]
  },
  {
   "cell_type": "code",
   "execution_count": 3,
   "metadata": {},
   "outputs": [
    {
     "name": "stdout",
     "output_type": "stream",
     "text": [
      "                        date       region customer_name   product_name  \\\n",
      "0 2025-02-20 08:16:09.630655     New York    Local Shop  Essential Kit   \n",
      "1 2025-02-20 08:16:09.630655     New York   Global Tech     Basic Tool   \n",
      "2 2025-02-20 08:16:09.630655     New York   Global Tech  Essential Kit   \n",
      "3 2025-02-20 08:16:09.630655  Los Angeles    Local Shop  Essential Kit   \n",
      "4 2025-02-20 08:16:09.630655  Los Angeles       XYZ Inc  Essential Kit   \n",
      "\n",
      "      category     sales  units_sold  customers  avg_order_value  \n",
      "0     Software  10473.86         209        112            93.52  \n",
      "1  Accessories  11368.45         227        106           107.25  \n",
      "2     Hardware  10233.10         204         93           110.03  \n",
      "3  Electronics   7117.99         142         72            98.86  \n",
      "4     Services   7022.22         140         69           101.77  \n"
     ]
    }
   ],
   "source": [
    "result = duckdb.query(\"\"\"\n",
    "    SELECT * FROM 'sales_data.csv' LIMIT 5\n",
    "\"\"\").df()\n",
    "\n",
    "print(result)\n"
   ]
  },
  {
   "cell_type": "code",
   "execution_count": 7,
   "metadata": {},
   "outputs": [
    {
     "data": {
      "text/html": [
       "<div>\n",
       "<style scoped>\n",
       "    .dataframe tbody tr th:only-of-type {\n",
       "        vertical-align: middle;\n",
       "    }\n",
       "\n",
       "    .dataframe tbody tr th {\n",
       "        vertical-align: top;\n",
       "    }\n",
       "\n",
       "    .dataframe thead th {\n",
       "        text-align: right;\n",
       "    }\n",
       "</style>\n",
       "<table border=\"1\" class=\"dataframe\">\n",
       "  <thead>\n",
       "    <tr style=\"text-align: right;\">\n",
       "      <th></th>\n",
       "      <th>region</th>\n",
       "      <th>total_sales</th>\n",
       "    </tr>\n",
       "  </thead>\n",
       "  <tbody>\n",
       "    <tr>\n",
       "      <th>0</th>\n",
       "      <td>New York</td>\n",
       "      <td>1976992.97</td>\n",
       "    </tr>\n",
       "    <tr>\n",
       "      <th>1</th>\n",
       "      <td>Miami</td>\n",
       "      <td>1415543.19</td>\n",
       "    </tr>\n",
       "    <tr>\n",
       "      <th>2</th>\n",
       "      <td>Houston</td>\n",
       "      <td>1398768.76</td>\n",
       "    </tr>\n",
       "    <tr>\n",
       "      <th>3</th>\n",
       "      <td>Chicago</td>\n",
       "      <td>1389934.33</td>\n",
       "    </tr>\n",
       "    <tr>\n",
       "      <th>4</th>\n",
       "      <td>Los Angeles</td>\n",
       "      <td>1383179.99</td>\n",
       "    </tr>\n",
       "  </tbody>\n",
       "</table>\n",
       "</div>"
      ],
      "text/plain": [
       "        region  total_sales\n",
       "0     New York   1976992.97\n",
       "1        Miami   1415543.19\n",
       "2      Houston   1398768.76\n",
       "3      Chicago   1389934.33\n",
       "4  Los Angeles   1383179.99"
      ]
     },
     "execution_count": 7,
     "metadata": {},
     "output_type": "execute_result"
    }
   ],
   "source": [
    "query = \"\"\"\n",
    "SELECT region, SUM(sales) AS total_sales\n",
    "FROM 'sales_data.csv'\n",
    "GROUP BY region\n",
    "ORDER BY total_sales DESC\n",
    "\"\"\"\n",
    "duckdb.query(query).df()\n"
   ]
  },
  {
   "cell_type": "code",
   "execution_count": 8,
   "metadata": {},
   "outputs": [
    {
     "data": {
      "text/plain": [
       "region\n",
       "New York       1976992.97\n",
       "Miami          1415543.19\n",
       "Houston        1398768.76\n",
       "Chicago        1389934.33\n",
       "Los Angeles    1383179.99\n",
       "Name: sales, dtype: float64"
      ]
     },
     "execution_count": 8,
     "metadata": {},
     "output_type": "execute_result"
    }
   ],
   "source": [
    "import pandas as pd\n",
    "df = pd.read_csv(\"sales_data.csv\")\n",
    "df.groupby(\"region\")[\"sales\"].sum().sort_values(ascending=False)\n"
   ]
  },
  {
   "cell_type": "code",
   "execution_count": 9,
   "metadata": {},
   "outputs": [
    {
     "data": {
      "text/html": [
       "<div>\n",
       "<style scoped>\n",
       "    .dataframe tbody tr th:only-of-type {\n",
       "        vertical-align: middle;\n",
       "    }\n",
       "\n",
       "    .dataframe tbody tr th {\n",
       "        vertical-align: top;\n",
       "    }\n",
       "\n",
       "    .dataframe thead th {\n",
       "        text-align: right;\n",
       "    }\n",
       "</style>\n",
       "<table border=\"1\" class=\"dataframe\">\n",
       "  <thead>\n",
       "    <tr style=\"text-align: right;\">\n",
       "      <th></th>\n",
       "      <th>date</th>\n",
       "      <th>region</th>\n",
       "      <th>customer_name</th>\n",
       "      <th>product_name</th>\n",
       "      <th>category</th>\n",
       "      <th>sales</th>\n",
       "      <th>units_sold</th>\n",
       "      <th>customers</th>\n",
       "      <th>avg_order_value</th>\n",
       "    </tr>\n",
       "  </thead>\n",
       "  <tbody>\n",
       "    <tr>\n",
       "      <th>0</th>\n",
       "      <td>2025-02-20 08:16:09.630655</td>\n",
       "      <td>New York</td>\n",
       "      <td>Local Shop</td>\n",
       "      <td>Essential Kit</td>\n",
       "      <td>Software</td>\n",
       "      <td>10473.86</td>\n",
       "      <td>209</td>\n",
       "      <td>112</td>\n",
       "      <td>93.52</td>\n",
       "    </tr>\n",
       "    <tr>\n",
       "      <th>1</th>\n",
       "      <td>2025-02-20 08:16:09.630655</td>\n",
       "      <td>Los Angeles</td>\n",
       "      <td>Local Shop</td>\n",
       "      <td>Premium Package</td>\n",
       "      <td>Software</td>\n",
       "      <td>6572.21</td>\n",
       "      <td>131</td>\n",
       "      <td>66</td>\n",
       "      <td>99.58</td>\n",
       "    </tr>\n",
       "    <tr>\n",
       "      <th>2</th>\n",
       "      <td>2025-02-20 08:16:09.630655</td>\n",
       "      <td>Chicago</td>\n",
       "      <td>Local Shop</td>\n",
       "      <td>Widget A</td>\n",
       "      <td>Software</td>\n",
       "      <td>7417.01</td>\n",
       "      <td>148</td>\n",
       "      <td>72</td>\n",
       "      <td>103.01</td>\n",
       "    </tr>\n",
       "    <tr>\n",
       "      <th>3</th>\n",
       "      <td>2025-02-21 08:16:09.630655</td>\n",
       "      <td>New York</td>\n",
       "      <td>Global Tech</td>\n",
       "      <td>Widget A</td>\n",
       "      <td>Software</td>\n",
       "      <td>10887.75</td>\n",
       "      <td>217</td>\n",
       "      <td>102</td>\n",
       "      <td>106.74</td>\n",
       "    </tr>\n",
       "    <tr>\n",
       "      <th>4</th>\n",
       "      <td>2025-02-21 08:16:09.630655</td>\n",
       "      <td>Los Angeles</td>\n",
       "      <td>Global Tech</td>\n",
       "      <td>Premium Package</td>\n",
       "      <td>Software</td>\n",
       "      <td>6888.01</td>\n",
       "      <td>137</td>\n",
       "      <td>60</td>\n",
       "      <td>114.80</td>\n",
       "    </tr>\n",
       "  </tbody>\n",
       "</table>\n",
       "</div>"
      ],
      "text/plain": [
       "                        date       region customer_name     product_name  \\\n",
       "0 2025-02-20 08:16:09.630655     New York    Local Shop    Essential Kit   \n",
       "1 2025-02-20 08:16:09.630655  Los Angeles    Local Shop  Premium Package   \n",
       "2 2025-02-20 08:16:09.630655      Chicago    Local Shop         Widget A   \n",
       "3 2025-02-21 08:16:09.630655     New York   Global Tech         Widget A   \n",
       "4 2025-02-21 08:16:09.630655  Los Angeles   Global Tech  Premium Package   \n",
       "\n",
       "   category     sales  units_sold  customers  avg_order_value  \n",
       "0  Software  10473.86         209        112            93.52  \n",
       "1  Software   6572.21         131         66            99.58  \n",
       "2  Software   7417.01         148         72           103.01  \n",
       "3  Software  10887.75         217        102           106.74  \n",
       "4  Software   6888.01         137         60           114.80  "
      ]
     },
     "execution_count": 9,
     "metadata": {},
     "output_type": "execute_result"
    }
   ],
   "source": [
    "query = \"\"\"\n",
    "SELECT *\n",
    "FROM 'sales_data.csv'\n",
    "WHERE category = 'Software'\n",
    "LIMIT 5\n",
    "\"\"\"\n",
    "duckdb.query(query).df()\n"
   ]
  },
  {
   "cell_type": "markdown",
   "metadata": {},
   "source": [
    "## 🆚 DuckDB vs Pandas – Summary\n",
    "\n",
    "| Feature                  | 🐼 Pandas                           | 🦆 DuckDB                            |\n",
    "|--------------------------|-------------------------------------|--------------------------------------|\n",
    "| **Execution**            | In-memory (eager)                   | SQL engine (lazy & optimized)        |\n",
    "| **File Handling**        | Loads full CSV into RAM             | Streams CSV/Parquet from disk        |\n",
    "| **Performance (small)**  | Fast (<100MB files)                 | Slight overhead for small files      |\n",
    "| **Performance (large)**  | Slows down or crashes >500MB        | Scales to GBs easily                 |\n",
    "| **Memory Usage**         | High (everything in memory)         | Low (reads only needed parts)        |\n",
    "| **Syntax Style**         | Pythonic (`df.groupby()`)           | SQL (`SELECT ... FROM ...`)          |\n",
    "| **Best For**             | Quick analysis, prototyping         | Dashboards, APIs, large datasets     |\n",
    "| **Joins, Filters**       | Supported, but slower               | Faster due to vectorized execution   |\n",
    "| **Installation**         | `pip install pandas`                | `pip install duckdb`                 |\n",
    "| **Chart Integration**    | Direct with matplotlib/plotly       | Use DuckDB for prep, then chart via Pandas |\n",
    "| **Downside**             | RAM-heavy, slow on huge data        | Needs SQL knowledge (slightly)       |\n",
    "\n",
    "---\n",
    "\n",
    "### 🧠 Rule of Thumb\n",
    "\n",
    "- Use **Pandas** for small, in-memory data work\n",
    "- Use **DuckDB** for:\n",
    "  - Large CSV/Parquet files\n",
    "  - Filtering, grouping, and KPI logic in dashboards\n",
    "  - Low-RAM environments (cloud, backend, LLM agents)\n",
    "\n"
   ]
  },
  {
   "cell_type": "markdown",
   "metadata": {},
   "source": []
  }
 ],
 "metadata": {
  "kernelspec": {
   "display_name": "Python 3",
   "language": "python",
   "name": "python3"
  },
  "language_info": {
   "codemirror_mode": {
    "name": "ipython",
    "version": 3
   },
   "file_extension": ".py",
   "mimetype": "text/x-python",
   "name": "python",
   "nbconvert_exporter": "python",
   "pygments_lexer": "ipython3",
   "version": "3.11.9"
  }
 },
 "nbformat": 4,
 "nbformat_minor": 2
}
